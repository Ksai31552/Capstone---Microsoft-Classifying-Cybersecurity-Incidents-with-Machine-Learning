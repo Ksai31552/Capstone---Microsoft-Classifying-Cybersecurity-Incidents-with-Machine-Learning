{
  "nbformat": 4,
  "nbformat_minor": 0,
  "metadata": {
    "colab": {
      "provenance": [],
      "gpuType": "T4",
      "authorship_tag": "ABX9TyNi2fJVuIWnm611G7nbpZU+",
      "include_colab_link": true
    },
    "kernelspec": {
      "name": "python3",
      "display_name": "Python 3"
    },
    "language_info": {
      "name": "python"
    },
    "accelerator": "GPU"
  },
  "cells": [
    {
      "cell_type": "markdown",
      "metadata": {
        "id": "view-in-github",
        "colab_type": "text"
      },
      "source": [
        "<a href=\"https://colab.research.google.com/github/Ksai31552/Capstone---Microsoft-Classifying-Cybersecurity-Incidents-with-Machine-Learning/blob/main/Resnet_Archtecture.ipynb\" target=\"_parent\"><img src=\"https://colab.research.google.com/assets/colab-badge.svg\" alt=\"Open In Colab\"/></a>"
      ]
    },
    {
      "cell_type": "code",
      "execution_count": null,
      "metadata": {
        "id": "Re5JTfpaLpuv"
      },
      "outputs": [],
      "source": [
        "# ResNet\n",
        "#This architectual address the vanishing gradients problem in the deep neural networks through the introduction of the residual connections and skip connections.\n"
      ]
    },
    {
      "cell_type": "code",
      "source": [
        "import torch\n",
        "import torch.nn as nn\n",
        "import torch.nn.functional as F\n",
        "import torchvision\n",
        "import torchvision.transforms as trasnsforms\n",
        "import matplotlib.pyplot as plt\n",
        "import numpy as np\n"
      ],
      "metadata": {
        "id": "kPyUpil9Ng1r"
      },
      "execution_count": null,
      "outputs": []
    },
    {
      "cell_type": "code",
      "source": [
        "class Basiclock(nn.Module):\n",
        "  expansion = 1\n",
        "\n",
        "  def __init__(self, in_channels, out channels, stride=1, downsample = True):\n",
        "    super(BasicBlock, self).__init__()\n",
        "    self.conv1 = nn.Con2d(in_channels, out_channels, kernal_size=3, stride=stride, padding=1, bias=False)\n",
        "    self.bn1 = nn.BatchNorm2d(out_channels)\n",
        "    self.conv2 = nn.Conv2d(out_channels, out_channels, kernel_size=3, stride=1, padding=1, bias=False)\n",
        "    self.bn2 = nn.BatchNorm2d(out_channels)\n",
        "    self.downsample = downsample\n",
        "    self.relu = nn.\n"
      ],
      "metadata": {
        "id": "OYFziuxbPN5T"
      },
      "execution_count": null,
      "outputs": []
    },
    {
      "cell_type": "markdown",
      "source": [],
      "metadata": {
        "id": "O3KS_9hSRjt2"
      }
    },
    {
      "cell_type": "code",
      "source": [
        "class ResNet(nn.Module):\n",
        "  def_init_(self, block, layers, num_class = 1000):\n",
        "    super(ResNet, self)._init_()\n",
        "    self.in_channels = 64\n",
        "\n",
        "    self.conv1 = nn.ConV2d(3, 64, kernel_size=7, stride=2, )"
      ],
      "metadata": {
        "id": "7RUUVJ8IRAzi"
      },
      "execution_count": null,
      "outputs": []
    }
  ]
}